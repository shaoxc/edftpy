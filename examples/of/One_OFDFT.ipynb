{
 "cells": [
  {
   "cell_type": "code",
   "execution_count": 1,
   "metadata": {
    "ExecuteTime": {
     "end_time": "2021-05-04T16:14:47.973153Z",
     "start_time": "2021-05-04T16:14:47.748584Z"
    }
   },
   "outputs": [],
   "source": [
    "import numpy as np\n",
    "import copy\n",
    "import os\n",
    "import unittest\n",
    "\n",
    "from dftpy.constants import ENERGY_CONV\n",
    "from dftpy.formats import io\n",
    "\n",
    "from edftpy.utils.common import Field, Grid, Atoms\n",
    "from edftpy.functional import LocalPP, KEDF, Hartree, XC\n",
    "from edftpy.optimizer import Optimization\n",
    "from edftpy.evaluator import EmbedEvaluator, EvaluatorOF, TotalEvaluator\n",
    "from edftpy.enginer.of_dftpy import DFTpyOF\n",
    "from edftpy.density.init_density import AtomicDensity\n",
    "from edftpy.subsystem.subcell import SubCell, GlobalCell\n",
    "from edftpy.mixer import PulayMixer, LinearMixer\n",
    "from edftpy.mpi import GraphTopo, MP"
   ]
  },
  {
   "cell_type": "code",
   "execution_count": 2,
   "metadata": {
    "ExecuteTime": {
     "end_time": "2021-05-04T16:14:47.980034Z",
     "start_time": "2021-05-04T16:14:47.974356Z"
    },
    "code_folding": [
     0
    ]
   },
   "outputs": [],
   "source": [
    "def get_optimizer(ke_kwargs, xc_kwargs = {}, method = 'full'):\n",
    "    data_path = os.environ.get('EDFTPY_DATA_PATH')\n",
    "    if not data_path : data_path = 'DATA/'\n",
    "    if not os.path.exists(data_path) : data_path = '../DATA/'\n",
    "    data_path += '/'\n",
    "    path_pp = data_path\n",
    "    path_pos = data_path\n",
    "\n",
    "    pp_al ='Al_OEPP_lda.recpot'\n",
    "    posfile='fcc.vasp'\n",
    "\n",
    "    ions = io.read(path_pos+posfile, names=['Al'])\n",
    "    gsystem = GlobalCell(ions, grid = None, ecut = 22.05, full = False, optfft = True)\n",
    "    grid = gsystem.grid\n",
    "    ############################## Functionals  ##############################\n",
    "    pplist = {'Al': path_pp+pp_al}\n",
    "    pseudo = LocalPP(grid = grid, ions=ions,PP_list=pplist,PME=True)\n",
    "    hartree = Hartree()\n",
    "    xc = XC(**xc_kwargs)\n",
    "    emb_ke_kwargs = {'name' :'TF'}\n",
    "    ke = KEDF(**emb_ke_kwargs)\n",
    "    funcdicts = {'KE' :ke, 'XC' :xc, 'HARTREE' :hartree, 'PSEUDO' :pseudo}\n",
    "    total_evaluator = TotalEvaluator(**funcdicts)\n",
    "    #-----------------------------------------------------------------------\n",
    "    gsystem.total_evaluator = total_evaluator\n",
    "    graphtopo = GraphTopo()\n",
    "    mp = MP(comm = graphtopo.comm_sub)\n",
    "    gsystem.graphtopo = graphtopo\n",
    "    #-----------------------------------------------------------------------\n",
    "    index_a = None\n",
    "    atomicd = AtomicDensity()\n",
    "    driver_a = gen_sub_of(ions, grid, pplist, index_a, atomicd, xc_kwargs, ke_kwargs, emb_ke_kwargs = emb_ke_kwargs, gsystem = gsystem, method = method, mp = mp)\n",
    "    drivers = [driver_a]\n",
    "    graphtopo.build_region(grid=gsystem.grid, drivers=drivers)\n",
    "    return gsystem, drivers"
   ]
  },
  {
   "cell_type": "code",
   "execution_count": 3,
   "metadata": {
    "ExecuteTime": {
     "end_time": "2021-05-04T16:14:47.993060Z",
     "start_time": "2021-05-04T16:14:47.981096Z"
    },
    "code_folding": [
     0
    ]
   },
   "outputs": [],
   "source": [
    "def gen_sub_of(ions, grid, pplist = None, index = None, atomicd = None, xc_kwargs = {}, ke_kwargs = {}, emb_ke_kwargs = {}, gsystem = None, method = 'full', mp = None, **kwargs):\n",
    "    if atomicd is None :\n",
    "        atomicd = AtomicDensity()\n",
    "    mixer = PulayMixer(predtype = 'kerker', predcoef = [0.8, 1.0], maxm = 7, coef = 0.8, predecut = 0, delay = 1)\n",
    "    #-----------------------------------------------------------------------\n",
    "    if ke_kwargs is None or len(ke_kwargs) == 0 :\n",
    "        ke_evaluator = None\n",
    "    else :\n",
    "        ke_evaluator = KEDF(**ke_kwargs)\n",
    "\n",
    "    ke_emb_a = KEDF(**emb_ke_kwargs)\n",
    "    emb_funcdicts = {'KE' :ke_emb_a}\n",
    "\n",
    "    ke_sub_kwargs = {'name' :'vW'}\n",
    "    ke_sub = KEDF(**ke_sub_kwargs)\n",
    "\n",
    "    sub_funcdicts = {}\n",
    "    sub_funcdicts['KE'] = ke_sub\n",
    "    evaluator_of = EvaluatorOF(gsystem = gsystem, **sub_funcdicts)\n",
    "    embed_evaluator = EmbedEvaluator(ke_evaluator = ke_evaluator, **emb_funcdicts)\n",
    "    #-----------------------------------------------------------------------\n",
    "    subsys_a = SubCell(ions, grid, index = index, cellcut = [0.0, 0.0, 10.5], optfft = True, mp = mp)\n",
    "    ions_a = subsys_a.ions\n",
    "    rho_a = subsys_a.density\n",
    "    rho_a[:] = atomicd.guess_rho(ions_a, subsys_a.grid)\n",
    "    options = {\"method\" :'CG-HS', \"maxiter\": 220, \"econv\": 1.0e-6, \"ncheck\": 2, \"opt_method\" : method}\n",
    "    of_enginer_a = DFTpyOF(evaluator = embed_evaluator, mixer = mixer, options = options, subcell = subsys_a, evaluator_of = evaluator_of)\n",
    "    return of_enginer_a"
   ]
  },
  {
   "cell_type": "code",
   "execution_count": 4,
   "metadata": {
    "ExecuteTime": {
     "end_time": "2021-05-04T16:14:48.004125Z",
     "start_time": "2021-05-04T16:14:47.994070Z"
    },
    "code_folding": [
     0
    ]
   },
   "outputs": [],
   "source": [
    "def get_energy(gsystem, drivers):\n",
    "    optimization_options = {'econv' : 1e-6, 'maxiter' : 70}\n",
    "    optimization_options[\"econv\"] *= gsystem.ions.nat\n",
    "    opt = Optimization(drivers = drivers, options = optimization_options)\n",
    "    opt.optimize(gsystem = gsystem)\n",
    "    energy = opt.energy\n",
    "    opt.stop_run()\n",
    "    return energy"
   ]
  },
  {
   "cell_type": "code",
   "execution_count": 5,
   "metadata": {
    "ExecuteTime": {
     "end_time": "2021-05-04T16:14:48.601103Z",
     "start_time": "2021-05-04T16:14:48.005058Z"
    }
   },
   "outputs": [
    {
     "name": "stdout",
     "output_type": "stream",
     "text": [
      "GlobalCell grid [16 16 16]\n",
      "setting key: Al -> /home/sxc/work/edftpy/eDFTpy/examples/DATA//Al_OEPP_lda.recpot\n",
      "Subcell grid(sub_of): [16 16 16]  [16 16 16]\n",
      "Subcell shift(sub_of): [0 0 0]\n",
      "\n",
      "Begin optimize\n",
      "Optimization options :\n",
      "{'econv': 4e-06,\n",
      " 'maxiter': 70,\n",
      " 'ncheck': 2,\n",
      " 'olevel': 2,\n",
      " 'pconv': 4e-08,\n",
      " 'pconv_sub': array([4.e-08]),\n",
      " 'sdft': 'sdft'}\n",
      "update density\n",
      "density 12.00000000000027\n",
      "          Step    Energy(a.u.)            dE              dP        dC        Time(s)         \n",
      "econv 1 0.01\n",
      "res_norm(sub_of): 1  0.004461428594984468  0.0035481626726263397\n",
      "mixing parameters :  0.8\n",
      "delay : use output density\n",
      "Norm of reidual density : \n",
      "[0.00354816]\n",
      "Energy of reidual density : \n",
      "[0.00696973]\n",
      "sub_energy(sub_of): 1  5.319724870166145\n",
      "----------------------------------------------------------------------------------------------------\n",
      "   Embed: 0       -3.248045197108E-01     -3.248045E-01   6.97E-03  6.97E-03  7.635736E-02    \n",
      "----------------------------------------------------------------------------------------------------\n",
      "econv 2 0.001\n",
      "res_norm(sub_of): 2  0.0026838050986950574  0.0005395742359636766\n",
      "mixing parameters :  0.8\n",
      "Density mixing gmax 45.13521130183622 0\n",
      "Norm of reidual density : \n",
      "[0.00053957]\n",
      "Energy of reidual density : \n",
      "[0.00012284]\n",
      "sub_energy(sub_of): 2  5.322296310320183\n",
      "----------------------------------------------------------------------------------------------------\n",
      "   Embed: 1       -2.772262955648E-01     4.757822E-02    1.23E-04  7.35E-05  1.262646E-01    \n",
      "----------------------------------------------------------------------------------------------------\n",
      "econv 3 5.395742359636766e-06\n",
      "res_norm(sub_of): 3  0.0007255258043858022  0.00028427960144135567\n",
      "mixing parameters :  0.8\n",
      "Norm of reidual density : \n",
      "[0.00028428]\n",
      "Energy of reidual density : \n",
      "[8.10718312e-05]\n",
      "sub_energy(sub_of): 3  5.320256732607123\n",
      "----------------------------------------------------------------------------------------------------\n",
      "   Embed: 2       -2.824283023210E-01     -5.202007E-03   8.11E-05  2.20E-05  2.075453E-01    \n",
      "----------------------------------------------------------------------------------------------------\n",
      "econv 4 2.842796014413557e-06\n",
      "res_norm(sub_of): 4  0.00023068832251717242  8.23170455265465e-05\n",
      "mixing parameters :  0.8\n",
      "Norm of reidual density : \n",
      "[8.23170455e-05]\n",
      "Energy of reidual density : \n",
      "[6.65958261e-06]\n",
      "sub_energy(sub_of): 4  5.3205939762870464\n",
      "----------------------------------------------------------------------------------------------------\n",
      "   Embed: 3       -2.814562572796E-01     9.720450E-04    6.66E-06  3.24E-06  2.776928E-01    \n",
      "----------------------------------------------------------------------------------------------------\n",
      "econv 5 8.23170455265465e-07\n",
      "res_norm(sub_of): 5  7.102745667807164e-06  2.582276230026701e-06\n",
      "mixing parameters :  0.8\n",
      "Norm of reidual density : \n",
      "[2.58227623e-06]\n",
      "Energy of reidual density : \n",
      "[2.77609748e-09]\n",
      "#### Subsytem Density Optimization Converged (Potential) In 5 Iterations ####\n",
      "-------------------------------Energy information-------------------------------\n",
      "          KE energy:  8.459295318230178E+01 (eV) =  3.108734012234512E+00 (a.u.)\n",
      "         KEE energy:  8.459295318230178E+01 (eV) =  3.108734012234512E+00 (a.u.)\n",
      "--------------------------------------------------------------------------------\n",
      "sub_energy(sub_of): 5  0.13963326927337855\n",
      "-------------------------------Energy information-------------------------------\n",
      "     HARTREE energy:  1.708007556379298E-01 (eV) =  6.276812646825485E-03 (a.u.)\n",
      "          II energy: -2.934239180842076E+02 (eV) = -1.078313121644666E+01 (a.u.)\n",
      "          KE energy:  8.459295318230178E+01 (eV) =  3.108734012234512E+00 (a.u.)\n",
      "      PSEUDO energy:  6.641396952565810E+01 (eV) =  2.440668615824080E+00 (a.u.)\n",
      "          XC energy: -8.689401998728810E+01 (eV) = -3.193296666356172E+00 (a.u.)\n",
      "       SUB_0 energy:  3.799614429490661E+00 (eV) =  1.396332692733785E-01 (a.u.)\n",
      "       TOTAL energy: -2.253406001784072E+02 (eV) = -8.281115172824038E+00 (a.u.)\n",
      "--------------------------------------------------------------------------------\n",
      "TFvW : energy -8.281115172824038\n"
     ]
    }
   ],
   "source": [
    "xc_kwargs = {\"x_str\":'lda_x','c_str':'lda_c_pz', 'libxc' :False}\n",
    "ke_kwargs = {'name' :'TF'}\n",
    "gsystem, drivers =get_optimizer(ke_kwargs, xc_kwargs = xc_kwargs)\n",
    "energy = get_energy(gsystem, drivers)\n",
    "print('TFvW : energy', energy) # -8.281114354275829"
   ]
  },
  {
   "cell_type": "markdown",
   "metadata": {},
   "source": [
    "# Simply use a input file with parameters"
   ]
  },
  {
   "cell_type": "code",
   "execution_count": 6,
   "metadata": {
    "ExecuteTime": {
     "end_time": "2021-05-04T16:14:48.660321Z",
     "start_time": "2021-05-04T16:14:48.602143Z"
    }
   },
   "outputs": [],
   "source": [
    "from edftpy.interface import optimize_density_conf, conf2init, conf2output, config2optimizer\n",
    "from edftpy.config import read_conf"
   ]
  },
  {
   "cell_type": "code",
   "execution_count": 7,
   "metadata": {
    "ExecuteTime": {
     "end_time": "2021-05-04T16:14:48.663857Z",
     "start_time": "2021-05-04T16:14:48.662192Z"
    }
   },
   "outputs": [],
   "source": [
    "input_str=\"\"\"\n",
    "[JOB]\n",
    "task            = Optdensity\n",
    "\n",
    "[PATH]\n",
    "pp              = ../DATA/\n",
    "cell            = ../DATA/\n",
    "\n",
    "[PP]\n",
    "Al              = Al_OEPP_lda.recpot\n",
    "\n",
    "[OPT]\n",
    "maxiter         = 100\n",
    "econv           = 1e-6\n",
    "\n",
    "[GSYSTEM]\n",
    "cell-file       = fcc.vasp\n",
    "grid-ecut       = 1000\n",
    "exc-x_str       = lda_x\n",
    "exc-c_str       = lda_c_pz\n",
    "kedf-kedf       = TF\n",
    "\n",
    "[SUB_OF]\n",
    "calculator      = dftpy\n",
    "embed           = KE\n",
    "cell-index      = :\n",
    "kedf-kedf       = TFvW\n",
    "density-initial = heg\n",
    "\"\"\""
   ]
  },
  {
   "cell_type": "code",
   "execution_count": 8,
   "metadata": {
    "ExecuteTime": {
     "end_time": "2021-05-04T16:14:48.681914Z",
     "start_time": "2021-05-04T16:14:48.664715Z"
    }
   },
   "outputs": [
    {
     "name": "stdout",
     "output_type": "stream",
     "text": [
      "Serial version on        1 processor\n"
     ]
    }
   ],
   "source": [
    "config=read_conf(input_str)\n",
    "graphtopo=conf2init(config,parallel=False)"
   ]
  },
  {
   "cell_type": "code",
   "execution_count": 9,
   "metadata": {
    "ExecuteTime": {
     "end_time": "2021-05-04T16:14:49.047731Z",
     "start_time": "2021-05-04T16:14:48.682771Z"
    }
   },
   "outputs": [
    {
     "name": "stdout",
     "output_type": "stream",
     "text": [
      "Communicators recreated :  1\n",
      "Number of subsystems :  1\n",
      "Number of processors for each subsystem : \n",
      "  [1]\n",
      "GlobalCell grid [20 20 20]\n",
      "setting key: Al -> ../DATA//Al_OEPP_lda.recpot\n",
      "Subcell grid(sub_of): [20 20 20]  [20 20 20]\n",
      "Subcell shift(sub_of): [0 0 0]\n",
      "\n"
     ]
    }
   ],
   "source": [
    "optimizer = config2optimizer(config, graphtopo = graphtopo)"
   ]
  },
  {
   "cell_type": "code",
   "execution_count": 10,
   "metadata": {
    "ExecuteTime": {
     "end_time": "2021-05-04T16:14:49.453257Z",
     "start_time": "2021-05-04T16:14:49.050452Z"
    }
   },
   "outputs": [
    {
     "name": "stdout",
     "output_type": "stream",
     "text": [
      "Begin optimize\n",
      "Optimization options :\n",
      "{'econv': 4e-06,\n",
      " 'maxiter': 100,\n",
      " 'method': 'Normal',\n",
      " 'ncheck': 2,\n",
      " 'olevel': 2,\n",
      " 'pconv': 4e-08,\n",
      " 'pconv_sub': array([4.e-08]),\n",
      " 'sdft': 'sdft'}\n",
      "update density\n",
      "density 11.999999999999018\n",
      "          Step    Energy(a.u.)            dE              dP        dC        Time(s)         \n",
      "econv 1 0.04\n",
      "res_norm(sub_of): 1  0.00449936830663971  0.0034228953698076012\n",
      "Norm of reidual density : \n",
      "[0.0034229]\n",
      "Energy of reidual density : \n",
      "[0.00614854]\n",
      "sub_energy(sub_of): 1  5.316233057838957\n",
      "----------------------------------------------------------------------------------------------------\n",
      "   Embed: 0       -3.282963345008E-01     -3.282963E-01   6.15E-03  6.15E-03  1.126130E-01    \n",
      "----------------------------------------------------------------------------------------------------\n",
      "econv 2 0.004\n",
      "res_norm(sub_of): 2  0.002170139437163165  0.0005303712343241861\n",
      "Norm of reidual density : \n",
      "[0.00053037]\n",
      "Energy of reidual density : \n",
      "[0.00012317]\n",
      "sub_energy(sub_of): 2  5.319769127877308\n",
      "----------------------------------------------------------------------------------------------------\n",
      "   Embed: 1       -2.815481813660E-01     4.674815E-02    1.23E-04  1.23E-04  1.688466E-01    \n",
      "----------------------------------------------------------------------------------------------------\n",
      "econv 3 2.1214849372967444e-05\n",
      "res_norm(sub_of): 3  0.0009947696131778379  0.0002700987110575618\n",
      "Norm of reidual density : \n",
      "[0.0002701]\n",
      "Energy of reidual density : \n",
      "[7.1931224e-05]\n",
      "sub_energy(sub_of): 3  5.321393170472065\n",
      "----------------------------------------------------------------------------------------------------\n",
      "   Embed: 2       -2.809142334764E-01     6.339479E-04    7.19E-05  7.19E-05  2.576239E-01    \n",
      "----------------------------------------------------------------------------------------------------\n",
      "econv 4 1.0803948442302473e-05\n",
      "res_norm(sub_of): 4  0.0002081699848864825  9.403499288979575e-05\n",
      "Norm of reidual density : \n",
      "[9.40349929e-05]\n",
      "Energy of reidual density : \n",
      "[8.88281025e-06]\n",
      "sub_energy(sub_of): 4  5.321288731624695\n",
      "----------------------------------------------------------------------------------------------------\n",
      "   Embed: 3       -2.803765573636E-01     5.376761E-04    8.88E-06  8.88E-06  3.229978E-01    \n",
      "----------------------------------------------------------------------------------------------------\n",
      "econv 5 3.76139971559183e-06\n",
      "res_norm(sub_of): 5  5.733916547693424e-05  2.1592606951186274e-05\n",
      "Norm of reidual density : \n",
      "[2.1592607e-05]\n",
      "Energy of reidual density : \n",
      "[3.07253725e-07]\n",
      "sub_energy(sub_of): 5  5.321073983457357\n",
      "----------------------------------------------------------------------------------------------------\n",
      "   Embed: 4       -2.808351140340E-01     -4.585567E-04   3.07E-07  3.07E-07  3.683252E-01    \n",
      "----------------------------------------------------------------------------------------------------\n",
      "econv 6 8.637042780474509e-07\n",
      "res_norm(sub_of): 6  9.314614621565298e-06  2.5616708165286205e-06\n",
      "Norm of reidual density : \n",
      "[2.56167082e-06]\n",
      "Energy of reidual density : \n",
      "[1.35076997e-09]\n",
      "#### Subsytem Density Optimization Converged (Potential) In 6 Iterations ####\n",
      "-------------------------------Energy information-------------------------------\n",
      "          KE energy:  8.459325921330854E+01 (eV) =  3.108745258667740E+00 (a.u.)\n",
      "         KEE energy:  8.459325921330854E+01 (eV) =  3.108745258667740E+00 (a.u.)\n",
      "--------------------------------------------------------------------------------\n",
      "sub_energy(sub_of): 6  0.13982395051236957\n",
      "-------------------------------Energy information-------------------------------\n",
      "     HARTREE energy:  1.707129900162422E-01 (eV) =  6.273587319384116E-03 (a.u.)\n",
      "          II energy: -2.934239181512237E+02 (eV) = -1.078313121890946E+01 (a.u.)\n",
      "          KE energy:  8.459325921330854E+01 (eV) =  3.108745258667740E+00 (a.u.)\n",
      "      PSEUDO energy:  6.640804769112282E+01 (eV) =  2.440450992396334E+00 (a.u.)\n",
      "          XC energy: -8.689413340277633E+01 (eV) = -3.193300834298920E+00 (a.u.)\n",
      "       SUB_0 energy:  3.804803129797355E+00 (eV) =  1.398239505123696E-01 (a.u.)\n",
      "       TOTAL energy: -2.253412285297551E+02 (eV) = -8.281138264312553E+00 (a.u.)\n",
      "--------------------------------------------------------------------------------\n"
     ]
    }
   ],
   "source": [
    "optimizer.optimize()"
   ]
  },
  {
   "cell_type": "code",
   "execution_count": 11,
   "metadata": {
    "ExecuteTime": {
     "end_time": "2021-05-04T16:14:49.459590Z",
     "start_time": "2021-05-04T16:14:49.455920Z"
    }
   },
   "outputs": [],
   "source": [
    "# remove the temporary files\n",
    "import os\n",
    "files=['sub_of.vasp','sub_of.out', 'edftpy_cell.vasp', 'edftpy_running.json']\n",
    "for f in files:\n",
    "    if os.path.isfile(f): os.remove(f)"
   ]
  }
 ],
 "metadata": {
  "kernelspec": {
   "display_name": "Python 3 (ipykernel)",
   "language": "python",
   "name": "python3"
  },
  "language_info": {
   "codemirror_mode": {
    "name": "ipython",
    "version": 3
   },
   "file_extension": ".py",
   "mimetype": "text/x-python",
   "name": "python",
   "nbconvert_exporter": "python",
   "pygments_lexer": "ipython3",
   "version": "3.8.10"
  }
 },
 "nbformat": 4,
 "nbformat_minor": 4
}
